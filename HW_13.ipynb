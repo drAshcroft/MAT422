{
  "nbformat": 4,
  "nbformat_minor": 0,
  "metadata": {
    "colab": {
      "provenance": [],
      "authorship_tag": "ABX9TyMWo2Q/C+TiX8cs456zApmO",
      "include_colab_link": true
    },
    "kernelspec": {
      "name": "python3",
      "display_name": "Python 3"
    },
    "language_info": {
      "name": "python"
    }
  },
  "cells": [
    {
      "cell_type": "markdown",
      "metadata": {
        "id": "view-in-github",
        "colab_type": "text"
      },
      "source": [
        "<a href=\"https://colab.research.google.com/github/drAshcroft/MAT422/blob/main/HW_13.ipynb\" target=\"_parent\"><img src=\"https://colab.research.google.com/assets/colab-badge.svg\" alt=\"Open In Colab\"/></a>"
      ]
    },
    {
      "cell_type": "markdown",
      "source": [
        "We can use numpy to solve system of equations and perform linear regression. First we look at just the base method"
      ],
      "metadata": {
        "id": "dZlNbZq70jYy"
      }
    },
    {
      "cell_type": "code",
      "execution_count": 11,
      "metadata": {
        "colab": {
          "base_uri": "https://localhost:8080/"
        },
        "id": "_4jzorel0URy",
        "outputId": "a91c6445-38ee-43bc-b86a-77e6533bca94"
      },
      "outputs": [
        {
          "output_type": "stream",
          "name": "stdout",
          "text": [
            "for the system \n",
            "[[ 2  1]\n",
            " [-3  6]]*x = [5, 0]\n",
            " we expect the solution to be \n",
            "x=[2, 1]\n"
          ]
        }
      ],
      "source": [
        "import numpy as np\n",
        "import time\n",
        "a=np.array([[2,1],[-3,6]])\n",
        "b=[5,0]\n",
        "x=[2,1]\n",
        "\n",
        "print(f'for the system \\n{a}*x = {b}\\n we expect the solution to be \\nx={x}')"
      ]
    },
    {
      "cell_type": "code",
      "source": [
        "xp=np.dot(np.dot(np.linalg.inv(np.dot(a.T,a)),a.T),b)\n",
        "\n",
        "print(f'The brute force solutions is = {xp}')"
      ],
      "metadata": {
        "colab": {
          "base_uri": "https://localhost:8080/"
        },
        "id": "aHnowdr-0dIa",
        "outputId": "6a9304a0-97e4-429b-90a5-53324608f624"
      },
      "execution_count": 12,
      "outputs": [
        {
          "output_type": "stream",
          "name": "stdout",
          "text": [
            "The brute force solutions is = [2. 1.]\n"
          ]
        }
      ]
    },
    {
      "cell_type": "code",
      "source": [
        "\n",
        "startTime = time.time()\n",
        "error=0\n",
        "for i in range(300):\n",
        "  #generate  random large matrix\n",
        "  a = np.random.randn(300, 300)\n",
        "  #gerate a solution vector\n",
        "  x= np.random.randn(300)\n",
        "  #create the output for this solution\n",
        "  b=np.dot(a,x)\n",
        "  xp=np.dot(np.dot(np.linalg.inv(np.dot(a.T,a)),a.T),b)\n",
        "  error+=np.sum(np.abs(xp-x))\n",
        "\n",
        "bruteTime = (time.time()-startTime)/i\n",
        "bruteError = error/i\n",
        "print(f'The brute force solutions took  {bruteTime} s per solution and had an average error of {bruteError}')\n"
      ],
      "metadata": {
        "colab": {
          "base_uri": "https://localhost:8080/"
        },
        "id": "THcg_9x7SQJB",
        "outputId": "6e1d2829-d902-4df4-d7f7-32039e3d6d43"
      },
      "execution_count": 14,
      "outputs": [
        {
          "output_type": "stream",
          "name": "stdout",
          "text": [
            "The brute force solutions took  0.013147142021153684 s and had an average error of 7.638662966138018e-07\n"
          ]
        }
      ]
    },
    {
      "cell_type": "markdown",
      "source": [
        "QR decomposition is more numerical stable for more complicated matrices. An example is shown here"
      ],
      "metadata": {
        "id": "5hzFkh6O0mq6"
      }
    },
    {
      "cell_type": "code",
      "source": [
        "a=np.array([[2,1],[-3,6]])\n",
        "b=[5,0]\n",
        "x=[2,1]\n",
        "\n",
        "Q, R = np.linalg.qr(a)\n",
        "\n",
        "xQR= np.dot( np.dot(np.linalg.inv(R),Q.T), b)\n",
        "\n",
        "print(f'The QR solution is x= {xQR}')\n"
      ],
      "metadata": {
        "colab": {
          "base_uri": "https://localhost:8080/"
        },
        "id": "Bo8MHlHA0fSM",
        "outputId": "333cdfde-8a18-4bf5-ee2b-30336f6175f6"
      },
      "execution_count": 16,
      "outputs": [
        {
          "output_type": "stream",
          "name": "stdout",
          "text": [
            "The QR solution is x= [2. 1.]\n"
          ]
        }
      ]
    },
    {
      "cell_type": "code",
      "source": [
        "\n",
        "startTime = time.time()\n",
        "error=0\n",
        "for i in range(300):\n",
        "  #generate  random large matrix\n",
        "  a = np.random.randn(300, 300)\n",
        "  #gerate a solution vector\n",
        "  x= np.random.randn(300)\n",
        "  #create the output for this solution\n",
        "  b=np.dot(a,x)\n",
        "\n",
        "  Q, R = np.linalg.qr(a)\n",
        "\n",
        "  xQR= np.dot( np.dot(np.linalg.inv(R),Q.T), b)\n",
        "\n",
        "  error+=np.sum(np.abs(xQR-x))\n",
        "\n",
        "qrTime = (time.time()-startTime)/i\n",
        "qrError = error/i\n",
        "print(f'The QR solutions took  {qrTime} s per solution and had an average error of {qrError}')\n"
      ],
      "metadata": {
        "colab": {
          "base_uri": "https://localhost:8080/"
        },
        "id": "IOjdMbzpblCg",
        "outputId": "42aef60e-ba30-4729-b77a-47512b2e2d3a"
      },
      "execution_count": 17,
      "outputs": [
        {
          "output_type": "stream",
          "name": "stdout",
          "text": [
            "The QR solutions took  0.015940942094477523 s per solution and had an average error of 2.2168164089633304e-11\n"
          ]
        }
      ]
    },
    {
      "cell_type": "code",
      "source": [
        "a=np.array([[2,1],[-3,6]])\n",
        "b=[5,0]\n",
        "x=[2,1]\n",
        "\n",
        "xSolve = np.linalg.solve(a, b)\n",
        "\n",
        "print(f'The np solve solution is x= {xSolve}')\n",
        "\n"
      ],
      "metadata": {
        "colab": {
          "base_uri": "https://localhost:8080/"
        },
        "id": "GIl9kXV8b44z",
        "outputId": "ac5aeb60-12ad-45dd-bef3-ae6e63677a4c"
      },
      "execution_count": 20,
      "outputs": [
        {
          "output_type": "stream",
          "name": "stdout",
          "text": [
            "The np solve solution is x= [2. 1.]\n"
          ]
        }
      ]
    },
    {
      "cell_type": "code",
      "source": [
        "\n",
        "startTime = time.time()\n",
        "error=0\n",
        "for i in range(300):\n",
        "  #generate  random large matrix\n",
        "  a = np.random.randn(300, 300)\n",
        "  #gerate a solution vector\n",
        "  x= np.random.randn(300)\n",
        "  #create the output for this solution\n",
        "  b=np.dot(a,x)\n",
        "\n",
        "  xSolve = np.linalg.solve(a, b)\n",
        "\n",
        "  error+=np.sum(np.abs(xSolve-x))\n",
        "\n",
        "solveTime = (time.time()-startTime)/i\n",
        "solveError = error/i\n",
        "print(f'The numpy solve solutions took  {solveTime} s per solution and had an average error of {solveError}')"
      ],
      "metadata": {
        "colab": {
          "base_uri": "https://localhost:8080/"
        },
        "id": "oWOxYNUycVLT",
        "outputId": "07592d95-4da1-4b5c-9afd-144827dc7811"
      },
      "execution_count": 23,
      "outputs": [
        {
          "output_type": "stream",
          "name": "stdout",
          "text": [
            "The numpy solve solutions took  0.0045473145003302835 s per solution and had an average error of 1.2044804516413937e-10\n"
          ]
        }
      ]
    },
    {
      "cell_type": "code",
      "source": [
        "print(f'Brute force , {bruteTime} , {bruteError}')\n",
        "print(f'QR          , {qrTime} , {qrError}')\n",
        "print(f'Numpy solve , {solveTime} , {solveError}')\n",
        "\n",
        "print('The built in NP solve routine runs the fastest for this task, while the QR method has the highest accuracy')"
      ],
      "metadata": {
        "colab": {
          "base_uri": "https://localhost:8080/"
        },
        "id": "0lmsH4k2clCy",
        "outputId": "6d32252a-cb1d-4c1b-ac34-1ed72b6388a9"
      },
      "execution_count": 27,
      "outputs": [
        {
          "output_type": "stream",
          "name": "stdout",
          "text": [
            "Brute force , 0.013147142021153684 , 7.638662966138018e-07\n",
            "QR          , 0.015940942094477523 , 2.2168164089633304e-11\n",
            "Numpy solve , 0.0045473145003302835 , 1.2044804516413937e-10\n",
            "The built in NP solve routine runs the fastest for this task, while the QR method has the highest accuracy\n"
          ]
        }
      ]
    },
    {
      "cell_type": "code",
      "source": [],
      "metadata": {
        "id": "nu8HDSfSc5PZ"
      },
      "execution_count": null,
      "outputs": []
    }
  ]
}