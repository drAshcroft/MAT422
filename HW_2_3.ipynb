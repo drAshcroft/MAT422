{
  "nbformat": 4,
  "nbformat_minor": 0,
  "metadata": {
    "colab": {
      "provenance": [],
      "authorship_tag": "ABX9TyNufx9Qwg11b6Pmw16WrJKM",
      "include_colab_link": true
    },
    "kernelspec": {
      "name": "python3",
      "display_name": "Python 3"
    },
    "language_info": {
      "name": "python"
    }
  },
  "cells": [
    {
      "cell_type": "markdown",
      "metadata": {
        "id": "view-in-github",
        "colab_type": "text"
      },
      "source": [
        "<a href=\"https://colab.research.google.com/github/drAshcroft/MAT422/blob/main/HW_2_3.ipynb\" target=\"_parent\"><img src=\"https://colab.research.google.com/assets/colab-badge.svg\" alt=\"Open In Colab\"/></a>"
      ]
    },
    {
      "cell_type": "markdown",
      "source": [
        "We create a few distributions to allow us to determine the relationship between the distributions.  "
      ],
      "metadata": {
        "id": "BjKAkdFoLDNe"
      }
    },
    {
      "cell_type": "code",
      "execution_count": 10,
      "metadata": {
        "id": "c1tRysH1Kmq9"
      },
      "outputs": [],
      "source": [
        "import numpy as np\n",
        "from scipy import stats\n",
        "import random\n",
        "from scipy.stats import moment\n",
        "\n",
        "rng = np.random.default_rng()\n",
        "\n",
        "#generate a sizeable number of data with a uniform and normal distribution\n",
        "uniform=rng.random(50000)\n",
        "normal = rng.standard_normal(50000)\n",
        "lognormal = rng.lognormal(0, .8, 50000)\n",
        "\n",
        "\n"
      ]
    },
    {
      "cell_type": "markdown",
      "source": [
        "Use covariance to determine the correlation between the variables and determine if the data is independant"
      ],
      "metadata": {
        "id": "CpDkXMgYLXEl"
      }
    },
    {
      "cell_type": "code",
      "source": [
        "res = stats.pearsonr(uniform, normal)\n",
        "print(f'Correlation between uniform distributed variables and normal distributed variables: {res.statistic}')\n",
        "\n",
        "res = stats.pearsonr(uniform, lognormal)\n",
        "print(f'Correlation between uniform distributed variables and lognormal distributed variables: {res.statistic}')\n",
        "\n",
        "res = stats.pearsonr(normal, lognormal)\n",
        "print(f'Correlation between normal distributed variables and lognormal distributed variables: {res.statistic}')\n",
        "\n",
        "\n"
      ],
      "metadata": {
        "colab": {
          "base_uri": "https://localhost:8080/"
        },
        "id": "Xyt-nxTZLWhK",
        "outputId": "d1e303eb-7115-456d-db50-cbc35758ac7d"
      },
      "execution_count": 11,
      "outputs": [
        {
          "output_type": "stream",
          "name": "stdout",
          "text": [
            "Correlation between uniform distributed variables and normal distributed variables: 0.0016281052409007804\n",
            "Correlation between uniform distributed variables and lognormal distributed variables: -0.0014891651179767857\n",
            "Correlation between normal distributed variables and lognormal distributed variables: -0.0010766558938327501\n"
          ]
        }
      ]
    },
    {
      "cell_type": "code",
      "source": [
        "res = stats.pearsonr(uniform, uniform)\n",
        "print(f'Correlation between uniform distributed variables and itself: {res.statistic}')\n",
        "\n",
        "res = stats.pearsonr(lognormal, lognormal)\n",
        "print(f'Correlation between lognormal distributed variables and itself: {res.statistic}')\n",
        "\n",
        "res = stats.pearsonr(normal, normal)\n",
        "print(f'Correlation between normal distributed variables and itself: {res.statistic}')"
      ],
      "metadata": {
        "colab": {
          "base_uri": "https://localhost:8080/"
        },
        "id": "2SAn7sKsKqaL",
        "outputId": "6b0b3777-3c74-436b-e596-2bee82ea03f2"
      },
      "execution_count": 12,
      "outputs": [
        {
          "output_type": "stream",
          "name": "stdout",
          "text": [
            "Correlation between uniform distributed variables and itself: 1.0\n",
            "Correlation between lognormal distributed variables and itself: 0.9999999999999993\n",
            "Correlation between normal distributed variables and itself: 1.0\n"
          ]
        }
      ]
    },
    {
      "cell_type": "markdown",
      "source": [
        "We can look a the central limit and simulate a number of statistical situations to determine the needed size of a dataset.  We take our three distributions and take random samples to determine the needed random size."
      ],
      "metadata": {
        "id": "CNwxVwgnrAJe"
      }
    },
    {
      "cell_type": "code",
      "source": [
        "uniform=rng.random(50000)\n",
        "normal = rng.standard_normal(50000)\n",
        "lognormal = rng.lognormal(0, .8, 50000)\n",
        "\n",
        "\n",
        "\n",
        "sampSizes=[10,100,500,1000]\n",
        "\n",
        "for sampSize in sampSizes:\n",
        "  X_uniform=[]\n",
        "  sigma_uniform =[]\n",
        "\n",
        "  X_normal=[]\n",
        "  sigma_normal =[]\n",
        "\n",
        "  X_lognormal=[]\n",
        "  sigma_lognormal=[]\n",
        "  for i in range(500):\n",
        "    subUniform =random.sample(uniform.tolist(), sampSize)\n",
        "    X_uniform.append(np.mean(subUniform))\n",
        "    sigma_uniform.append(np.std(subUniform))\n",
        "\n",
        "    subnormal =random.sample(normal.tolist(), sampSize)\n",
        "    X_normal.append(np.mean(subnormal))\n",
        "    sigma_normal.append(np.std(subnormal))\n",
        "\n",
        "    sublognormal=random.sample(lognormal.tolist(), sampSize)\n",
        "    X_lognormal.append(np.mean(sublognormal))\n",
        "    sigma_lognormal.append(np.std(sublognormal))\n",
        "\n",
        "  print(f'Random sample size {sampSize}')\n",
        "  print( f'Sample of means from uniform distribution \\nmean:{np.mean(X_uniform):.2f} mean of distribution:{.5}\\nstd of means:{np.std(X_uniform):.4f} expected: {np.std(uniform)/sampSize**.5:.4f}')\n",
        "  print( f' ')\n",
        "\n",
        "  print( f'Sample of means from uniform distribution \\nmean:{np.mean(X_normal):.2f} mean of distribution:{0}\\nstd of means:{np.std(X_normal):.4f} expected: {np.std(normal)/sampSize**.5:.4f}')\n",
        "  print( f' ')\n",
        "\n",
        "  print( f'Sample of means from uniform distribution \\nmean:{np.mean(X_lognormal):.2f} mean of distribution:{np.mean(lognormal):.2f}\\nstd of means:{np.std(X_lognormal):.4f} expected: {np.std(lognormal)/sampSize**.5:.4f}')\n",
        "  print( f' ')\n",
        "\n"
      ],
      "metadata": {
        "colab": {
          "base_uri": "https://localhost:8080/"
        },
        "id": "a1nLiJOITX79",
        "outputId": "4de1f42b-4a13-4d72-efb4-e9983ee2eed8"
      },
      "execution_count": 31,
      "outputs": [
        {
          "output_type": "stream",
          "name": "stdout",
          "text": [
            "Random sample size 10\n",
            "Sample of means from uniform distribution \n",
            "mean:0.50 mean of distribution:0.5\n",
            "std of means:0.0931 expected: 0.0916\n",
            " \n",
            "Sample of means from uniform distribution \n",
            "mean:-0.01 mean of distribution:0\n",
            "std of means:0.3114 expected: 0.3155\n",
            " \n",
            "Sample of means from uniform distribution \n",
            "mean:1.40 mean of distribution:1.38\n",
            "std of means:0.4134 expected: 0.4103\n",
            " \n",
            "Random sample size 100\n",
            "Sample of means from uniform distribution \n",
            "mean:0.50 mean of distribution:0.5\n",
            "std of means:0.0270 expected: 0.0290\n",
            " \n",
            "Sample of means from uniform distribution \n",
            "mean:-0.00 mean of distribution:0\n",
            "std of means:0.1006 expected: 0.0998\n",
            " \n",
            "Sample of means from uniform distribution \n",
            "mean:1.38 mean of distribution:1.38\n",
            "std of means:0.1285 expected: 0.1297\n",
            " \n",
            "Random sample size 500\n",
            "Sample of means from uniform distribution \n",
            "mean:0.50 mean of distribution:0.5\n",
            "std of means:0.0127 expected: 0.0130\n",
            " \n",
            "Sample of means from uniform distribution \n",
            "mean:-0.00 mean of distribution:0\n",
            "std of means:0.0441 expected: 0.0446\n",
            " \n",
            "Sample of means from uniform distribution \n",
            "mean:1.38 mean of distribution:1.38\n",
            "std of means:0.0577 expected: 0.0580\n",
            " \n",
            "Random sample size 1000\n",
            "Sample of means from uniform distribution \n",
            "mean:0.50 mean of distribution:0.5\n",
            "std of means:0.0095 expected: 0.0092\n",
            " \n",
            "Sample of means from uniform distribution \n",
            "mean:-0.00 mean of distribution:0\n",
            "std of means:0.0326 expected: 0.0315\n",
            " \n",
            "Sample of means from uniform distribution \n",
            "mean:1.38 mean of distribution:1.38\n",
            "std of means:0.0404 expected: 0.0410\n",
            " \n"
          ]
        }
      ]
    },
    {
      "cell_type": "code",
      "source": [],
      "metadata": {
        "colab": {
          "base_uri": "https://localhost:8080/"
        },
        "id": "PJeMuM8UlYoa",
        "outputId": "defb9d91-257c-4ba8-d347-d273818ae78a"
      },
      "execution_count": 27,
      "outputs": [
        {
          "output_type": "stream",
          "name": "stdout",
          "text": [
            "Sample of means from uniform distribution \n",
            "mean:0.50 mean of distribution:0.5\n",
            "std of means:0.0089 expected: 0.0129\n",
            " \n",
            "Sample of means from uniform distribution \n",
            "mean:-0.00 mean of distribution:0\n",
            "std of means:0.0322 expected: 0.0449\n",
            " \n",
            "Sample of means from uniform distribution \n",
            "mean:1.39 mean of distribution:1.38\n",
            "std of means:0.0413 expected: 0.0584\n",
            " \n"
          ]
        }
      ]
    },
    {
      "cell_type": "code",
      "source": [],
      "metadata": {
        "id": "kqiw0K8OmuO5"
      },
      "execution_count": null,
      "outputs": []
    }
  ]
}