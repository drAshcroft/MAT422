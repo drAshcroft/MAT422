{
  "nbformat": 4,
  "nbformat_minor": 0,
  "metadata": {
    "colab": {
      "provenance": [],
      "authorship_tag": "ABX9TyMJSqEY60kX1PKbxfUKuAHi",
      "include_colab_link": true
    },
    "kernelspec": {
      "name": "python3",
      "display_name": "Python 3"
    },
    "language_info": {
      "name": "python"
    }
  },
  "cells": [
    {
      "cell_type": "markdown",
      "metadata": {
        "id": "view-in-github",
        "colab_type": "text"
      },
      "source": [
        "<a href=\"https://colab.research.google.com/github/drAshcroft/MAT422/blob/main/HW_14.ipynb\" target=\"_parent\"><img src=\"https://colab.research.google.com/assets/colab-badge.svg\" alt=\"Open In Colab\"/></a>"
      ]
    },
    {
      "cell_type": "code",
      "execution_count": 12,
      "metadata": {
        "id": "uuL80ENig726"
      },
      "outputs": [],
      "source": [
        "import numpy as np\n",
        "import time\n",
        "import matplotlib.pyplot as plt\n",
        "\n",
        " #generate  random large matrix\n",
        "a = np.random.randn(5, 5)\n",
        "#gerate a solution vector\n",
        "x= np.random.randn(5)\n",
        "#create the output for this solution\n",
        "b=np.dot(a,x)\n",
        "\n"
      ]
    },
    {
      "cell_type": "code",
      "source": [
        "#check the routine and determine if it can reproduce the original matrix\n",
        "\n",
        "U, S, Vh = np.linalg.svd(a, full_matrices=True)\n",
        "print(U.shape, S.shape, Vh.shape)\n",
        "\n",
        "print('MSE in SVD',end='')\n",
        "print( np.sum( np.power( a- np.dot(U * S, Vh),2)**.5/(U.shape[0]*U.shape[1])))\n",
        "\n",
        "\n"
      ],
      "metadata": {
        "colab": {
          "base_uri": "https://localhost:8080/"
        },
        "id": "1fyuBycCl3p6",
        "outputId": "d41b1d59-680c-4bfc-b986-76d17054cc89"
      },
      "execution_count": 13,
      "outputs": [
        {
          "output_type": "stream",
          "name": "stdout",
          "text": [
            "(5, 5) (5,) (5, 5)\n",
            "MSE in SVD4.496403249731884e-16\n"
          ]
        }
      ]
    },
    {
      "cell_type": "markdown",
      "source": [
        "With the SVD formation, the matrix can be simplified by removing columns indexed by S.  We now estimate the error for removing each column in the correct approximation of a"
      ],
      "metadata": {
        "id": "d6_6kVUJnBW3"
      }
    },
    {
      "cell_type": "code",
      "source": [
        "smat = np.zeros(U.shape )\n",
        "smat[:, :] = np.diag(S)\n",
        "\n",
        "approx=np.dot(U, np.dot(smat, Vh))\n",
        "\n",
        "print(  np.sum( np.power(a-approx,2))**.5/(U.shape[0]*U.shape[1]) )\n"
      ],
      "metadata": {
        "colab": {
          "base_uri": "https://localhost:8080/"
        },
        "id": "GZRtnbsZ5xqE",
        "outputId": "b8e77409-ad25-40c4-bca3-e8707f154402"
      },
      "execution_count": 14,
      "outputs": [
        {
          "output_type": "stream",
          "name": "stdout",
          "text": [
            "1.2462222543165673e-16\n"
          ]
        }
      ]
    },
    {
      "cell_type": "code",
      "source": [
        "smat = np.zeros(U.shape )\n",
        "smat[:, :] = np.diag(S)\n",
        "\n",
        "print('Columns Removed,MSE error for this approximation:')\n",
        "approx=np.dot(U, np.dot(smat, Vh))\n",
        "print( 0, np.sum( np.power(a-approx,2))**.5/(U.shape[0]*U.shape[1]) )\n",
        "\n",
        "for i in range(U.shape[0]-1,0,-1):\n",
        "  smat[i,i]=0\n",
        "  approx=np.dot(U, np.dot(smat, Vh))\n",
        "  print( U.shape[0]-i, np.sum( np.power(a-approx,2))**.5/(U.shape[0]*U.shape[1]) )"
      ],
      "metadata": {
        "colab": {
          "base_uri": "https://localhost:8080/"
        },
        "id": "zsqI7z56nAn-",
        "outputId": "1b03be0b-502c-4d7f-c606-9f5cb0ce83f8"
      },
      "execution_count": 15,
      "outputs": [
        {
          "output_type": "stream",
          "name": "stdout",
          "text": [
            "Columns Removed,MSE error for this approximation:\n",
            "0 1.2462222543165673e-16\n",
            "1 0.011755065758750119\n",
            "2 0.030082393974026348\n",
            "3 0.09511688407162348\n",
            "4 0.13752853059504258\n"
          ]
        }
      ]
    },
    {
      "cell_type": "markdown",
      "source": [
        "Principle Component Analysis allows us to reduce the dimensionality of a matrix or dataset to allow easier analysis.  The routine rotates the dataset such that axis with the largest variance falls on the first axis."
      ],
      "metadata": {
        "id": "Tq3kfxQF8Ayx"
      }
    },
    {
      "cell_type": "code",
      "source": [
        "\n",
        "from sklearn.decomposition import PCA\n",
        "\n",
        "X = np.random.randn(500, 5)\n",
        "#add in some asymetry to the normally generated data\n",
        "X[:,1] = X[:,1]*3\n",
        "X[:,4] = X[:,4]*2\n",
        "#create second dataset with different distribution\n",
        "X2 = np.random.randn(500, 5)\n",
        "X2[:,2] = X2[:,2]*6\n",
        "X2[:,3] = X2[:,3]*5\n",
        "\n",
        "\n",
        "pca = PCA(n_components=X.shape[1])\n",
        "pca.fit( np.concatenate( [X,X2]))\n",
        "\n",
        "print('Show how much of the data variance can be explained by each of the generated columns')\n",
        "print(pca.explained_variance_ratio_)\n",
        "print('\\nThe singular values of each of the generated columns.  or the 2-norm values in 2D space')\n",
        "print(pca.singular_values_)\n",
        "print('\\nCovariance matrix')\n",
        "pca.get_covariance()\n",
        "\n"
      ],
      "metadata": {
        "colab": {
          "base_uri": "https://localhost:8080/"
        },
        "id": "jWNhkxyO5qNW",
        "outputId": "1efe7ba6-475d-469e-ee9f-23adb24cdfef"
      },
      "execution_count": 16,
      "outputs": [
        {
          "output_type": "stream",
          "name": "stdout",
          "text": [
            "Show how much of the data variance can be explained by each of the generated columns\n",
            "[0.49127348 0.30191825 0.12228081 0.06064126 0.02388621]\n",
            "\n",
            "The singular values of each of the generated columns.  or the 2-norm values in 2D space\n",
            "[143.87639218 112.79051064  71.78059063  50.54893243  31.72498973]\n",
            "\n",
            "Covariance matrix\n"
          ]
        },
        {
          "output_type": "execute_result",
          "data": {
            "text/plain": [
              "array([[ 1.01394118e+00, -6.32778522e-03,  2.69379812e-01,\n",
              "        -1.78551451e-01, -9.05569300e-03],\n",
              "       [-6.32778522e-03,  5.15498675e+00, -3.16362934e-02,\n",
              "         2.05774561e-01,  1.44819710e-01],\n",
              "       [ 2.69379812e-01, -3.16362934e-02,  2.07159720e+01,\n",
              "        -6.87504624e-02,  1.18717502e-01],\n",
              "       [-1.78551451e-01,  2.05774561e-01, -6.87504624e-02,\n",
              "         1.27265899e+01, -5.16147294e-02],\n",
              "       [-9.05569300e-03,  1.44819710e-01,  1.18717502e-01,\n",
              "        -5.16147294e-02,  2.56692688e+00]])"
            ]
          },
          "metadata": {},
          "execution_count": 16
        }
      ]
    },
    {
      "cell_type": "markdown",
      "source": [
        "We can visualize the difference of the transformation by reducing the dataset to a 2D system and then plotting the points"
      ],
      "metadata": {
        "id": "A48EAz9035qK"
      }
    },
    {
      "cell_type": "code",
      "source": [
        "X_new= pca.transform(X)\n",
        "X2_new = pca.transform(X2)\n",
        "\n",
        "plt.scatter(X_new[:,0],X_new[:,1])\n",
        "plt.scatter(X2_new[:,0],X2_new[:,1])\n",
        "plt.show()"
      ],
      "metadata": {
        "id": "E4OoIV9loeL7",
        "colab": {
          "base_uri": "https://localhost:8080/",
          "height": 430
        },
        "outputId": "729e5317-777b-4916-b1a4-2ddce2d758a8"
      },
      "execution_count": 20,
      "outputs": [
        {
          "output_type": "display_data",
          "data": {
            "text/plain": [
              "<Figure size 640x480 with 1 Axes>"
            ],
            "image/png": "[encoded data removed]"
          },
          "metadata": {}
        }
      ]
    },
    {
      "cell_type": "code",
      "source": [],
      "metadata": {
        "id": "bownTB6q3t5i"
      },
      "execution_count": null,
      "outputs": []
    }
  ]
}