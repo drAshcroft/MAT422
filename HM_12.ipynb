{
  "nbformat": 4,
  "nbformat_minor": 0,
  "metadata": {
    "colab": {
      "provenance": [],
      "authorship_tag": "ABX9TyNIK52mUK2d678LnexzRY93",
      "include_colab_link": true
    },
    "kernelspec": {
      "name": "python3",
      "display_name": "Python 3"
    },
    "language_info": {
      "name": "python"
    }
  },
  "cells": [
    {
      "cell_type": "markdown",
      "metadata": {
        "id": "view-in-github",
        "colab_type": "text"
      },
      "source": [
        "<a href=\"https://colab.research.google.com/github/drAshcroft/MAT422/blob/main/HM_12.ipynb\" target=\"_parent\"><img src=\"https://colab.research.google.com/assets/colab-badge.svg\" alt=\"Open In Colab\"/></a>"
      ]
    },
    {
      "cell_type": "markdown",
      "source": [
        "Linear Combinations: We can create a vector space by performing a linear combination of basis vectors.  This is easy to do with numpy as it handles vectors natively."
      ],
      "metadata": {
        "id": "QQm6syJB1a1i"
      }
    },
    {
      "cell_type": "code",
      "execution_count": 1,
      "metadata": {
        "id": "3mjO7hQs3db2",
        "colab": {
          "base_uri": "https://localhost:8080/"
        },
        "outputId": "df7ae292-7f99-4cf7-86d4-8ccd46011303"
      },
      "outputs": [
        {
          "output_type": "stream",
          "name": "stdout",
          "text": [
            "[-14.5   1.5]\n"
          ]
        }
      ],
      "source": [
        "import numpy as np\n",
        "#Build the first Vector\n",
        "u1=np.array([1,3])\n",
        "u2=np.array([-3,0])\n",
        "\n",
        "#we can combine the terms by using any linear combination of the basis vectors\n",
        "a=.5\n",
        "b=5\n",
        "U=a*u1+b*u2\n",
        "print(U)"
      ]
    },
    {
      "cell_type": "markdown",
      "source": [
        "Matrix operations can be performed by using the numpy array as well, and are easily performed to get information about a matric"
      ],
      "metadata": {
        "id": "-7aVFmn-2mv-"
      }
    },
    {
      "cell_type": "code",
      "source": [
        "A =np.array([[1,2],[-3,7]])\n",
        "print('Matrix A')\n",
        "print(A)\n",
        "print()\n",
        "#get the column space of A\n",
        "for i in range(A.shape[1]):\n",
        "  print('Column Vector ' + str(i) + '=' + str(A[:,i].T))\n",
        "\n",
        "\n",
        "print()\n",
        "print('Linear combition of column space')\n",
        "a=-.5\n",
        "b=3\n",
        "w= a*A[:,0] + b*A[:,1]\n",
        "print(w)"
      ],
      "metadata": {
        "colab": {
          "base_uri": "https://localhost:8080/"
        },
        "id": "ecmw41Aw2k7e",
        "outputId": "71c3299c-bab4-4e58-d010-90b58e94ac4e"
      },
      "execution_count": 2,
      "outputs": [
        {
          "output_type": "stream",
          "name": "stdout",
          "text": [
            "Matrix A\n",
            "[[ 1  2]\n",
            " [-3  7]]\n",
            "\n",
            "Column Vector 0=[ 1 -3]\n",
            "Column Vector 1=[2 7]\n",
            "\n",
            "Linear combition of column space\n",
            "[ 5.5 22.5]\n"
          ]
        }
      ]
    },
    {
      "cell_type": "code",
      "source": [
        "print('We can check for linear independance of a set of vectors')\n",
        "vectors=[]\n",
        "vectors.append( np.array([1,0,1]))\n",
        "vectors.append( np.array([1,1,1]))\n",
        "vectors.append( np.array([0,0,1]))\n",
        "\n",
        "print('With the vectors:')\n",
        "for v in vectors: print(v)\n",
        "\n",
        "print('We check for linear independance by performing checking if the projections of all the vectors is zero')\n",
        "independant =True\n",
        "for i in range(len(vectors)):\n",
        "  for j in range(i+1,len(vectors)):\n",
        "    proj = np.dot(vectors[i],vectors[j])\n",
        "    if proj>0:\n",
        "      print(f'Vector {i} and Vector {j} overlap by {proj}')\n",
        "      independant=False\n",
        "      break\n",
        "if independant:\n",
        "  print('Vector set is independant')\n",
        "else:\n",
        "  print('Vector set is not independant')"
      ],
      "metadata": {
        "colab": {
          "base_uri": "https://localhost:8080/"
        },
        "id": "1z97-Pju2BSX",
        "outputId": "8f2fd18a-42c2-4344-90c9-5310eb5f2932"
      },
      "execution_count": 3,
      "outputs": [
        {
          "output_type": "stream",
          "name": "stdout",
          "text": [
            "We can check for linear independance of a set of vectors\n",
            "With the vectors:\n",
            "[1 0 1]\n",
            "[1 1 1]\n",
            "[0 0 1]\n",
            "We check for linear independance by performing checking if the projections of all the vectors is zero\n",
            "Vector 0 and Vector 1 overlap by 2\n",
            "Vector 1 and Vector 2 overlap by 1\n",
            "Vector set is not independant\n"
          ]
        }
      ]
    },
    {
      "cell_type": "code",
      "source": [
        "print('Performing this test again with independant vectors')\n",
        "vectors=[]\n",
        "vectors.append( np.array([1,0,0]))\n",
        "vectors.append( np.array([0,2,0]))\n",
        "vectors.append( np.array([0,0,1]))\n",
        "\n",
        "print('With the vectors:')\n",
        "for v in vectors: print(v)\n",
        "\n",
        "print('We check for linear independance by performing checking if the projections of all the vectors is zero')\n",
        "independant =True\n",
        "for i in range(len(vectors)):\n",
        "  for j in range(i+1,len(vectors)):\n",
        "    proj = np.dot(vectors[i],vectors[j])\n",
        "    if proj>0:\n",
        "      print(f'Vector {i} and Vector {j} overlap by {proj}')\n",
        "      independant=False\n",
        "      break\n",
        "if independant:\n",
        "  print('Vector set is independant')\n",
        "else:\n",
        "  print('Vector set is not independant')"
      ],
      "metadata": {
        "colab": {
          "base_uri": "https://localhost:8080/"
        },
        "id": "4jV671X86CCX",
        "outputId": "cc8004ba-7b95-441e-c2a6-1fe721bf6dbb"
      },
      "execution_count": 4,
      "outputs": [
        {
          "output_type": "stream",
          "name": "stdout",
          "text": [
            "Performing this test again with independant vectors\n",
            "With the vectors:\n",
            "[1 0 0]\n",
            "[0 2 0]\n",
            "[0 0 1]\n",
            "We check for linear independance by performing checking if the projections of all the vectors is zero\n",
            "Vector set is independant\n"
          ]
        }
      ]
    },
    {
      "cell_type": "code",
      "source": [
        "print('The computer can be used to normalize vectors quickly and easily')\n",
        "for v in vectors:\n",
        "  print(v/np.linalg.norm(v))"
      ],
      "metadata": {
        "colab": {
          "base_uri": "https://localhost:8080/"
        },
        "id": "7znmdiaV6NuW",
        "outputId": "8bb49c7f-2375-4d89-89d3-7e5c1d937f47"
      },
      "execution_count": 5,
      "outputs": [
        {
          "output_type": "stream",
          "name": "stdout",
          "text": [
            "The computer can be used to normalize vectors quickly and easily\n",
            "[1. 0. 0.]\n",
            "[0. 1. 0.]\n",
            "[0. 0. 1.]\n"
          ]
        }
      ]
    },
    {
      "cell_type": "markdown",
      "source": [
        "Using a code example from\n",
        "zerobone https://zerobone.net/blog/cs/gram-schmidt-orthogonalization/, we can easily use Gram-Schmidt to provide an orthonomal basis of our vectors. Which is far easier than performing these calculations with a calculator or excel.\n",
        "Gram Schmid is used to convert an arbitrary basis set into an orthnomal basis for\n"
      ],
      "metadata": {
        "id": "0n41x9L4_kP0"
      }
    },
    {
      "cell_type": "code",
      "source": [
        "def gram_schmidt(A):\n",
        "    (n, m) = A.shape\n",
        "    for i in range(m):\n",
        "        q = A[:, i] # i-th column of A\n",
        "        for j in range(i):\n",
        "            q = q - np.dot(A[:, j], A[:, i]) * A[:, j]\n",
        "\n",
        "        if np.array_equal(q, np.zeros(q.shape)):\n",
        "            raise np.linalg.LinAlgError(\"The column vectors are not linearly independent\")\n",
        "\n",
        "        # normalize q\n",
        "        q = q / np.sqrt(np.dot(q, q))\n",
        "\n",
        "        # write the vector back in the matrix\n",
        "        A[:, i] = q\n",
        "    return A\n",
        "\n",
        "\n",
        "\n",
        "#we provide a random matrix of column basis vectors.  We wish to create an orthonormal basis from this matrix to provide easier calculations in the future.\n",
        "test = np.array([[3.0, 1.0], [2.0, 2.0]])\n",
        "print(f\"{test}\\n as initial guesses for the basis\")\n",
        "test= gram_schmidt(test)\n",
        "print(f'{test}\\n is the orthomormal basis')\n",
        ""
      ],
      "metadata": {
        "colab": {
          "base_uri": "https://localhost:8080/"
        },
        "id": "siQYyaNn8Q4T",
        "outputId": "7bd2aab5-017a-477a-a3b6-93e32647a56c"
      },
      "execution_count": 6,
      "outputs": [
        {
          "output_type": "stream",
          "name": "stdout",
          "text": [
            "[[3. 1.]\n",
            " [2. 2.]]\n",
            " as initial guesses for the basis\n",
            "[[ 0.83205029 -0.5547002 ]\n",
            " [ 0.5547002   0.83205029]]\n",
            " is the orthomormal basis\n"
          ]
        }
      ]
    },
    {
      "cell_type": "code",
      "source": [
        "from numpy import linalg as LA\n",
        "\n",
        "test=np.array([ [1,0,0],[0,10,0],[0,0,3]])\n",
        "print(f\"{test}\\n as our diagonal matrix\")\n",
        "eigenvalues, eigenvectors = LA.eig(test)\n",
        "print(f\"this matrix has the eigenvalues = {eigenvalues}\")\n",
        "print(f'this matrix has the eigenvectors = {eigenvectors}')\n"
      ],
      "metadata": {
        "colab": {
          "base_uri": "https://localhost:8080/"
        },
        "id": "zPnktXvMAAjC",
        "outputId": "8039904f-a1f0-4fb9-aa98-c699bf05d4b9"
      },
      "execution_count": 7,
      "outputs": [
        {
          "output_type": "stream",
          "name": "stdout",
          "text": [
            "[[ 1  0  0]\n",
            " [ 0 10  0]\n",
            " [ 0  0  3]]\n",
            " as our diagonal matrix\n",
            "this matrix has the eigenvalues = [ 1. 10.  3.]\n",
            "this matrix has the eigenvectors = [[1. 0. 0.]\n",
            " [0. 1. 0.]\n",
            " [0. 0. 1.]]\n"
          ]
        }
      ]
    },
    {
      "cell_type": "code",
      "source": [
        "test=np.array([ [1,0,1],[0,10,0],[.5,0,3]])\n",
        "print(f\"{test}\\n as our random matrix\")\n",
        "eigenvalues, eigenvectors = LA.eig(test)\n",
        "print()\n",
        "print(f\"this matrix has the eigenvalues = \\n{eigenvalues}\")\n",
        "print(f'this matrix has the eigenvectors = \\n{eigenvectors}')"
      ],
      "metadata": {
        "colab": {
          "base_uri": "https://localhost:8080/"
        },
        "id": "QFt7g8ZXAg_S",
        "outputId": "03ac6be5-05d1-4bf9-cbe4-c228848cc0be"
      },
      "execution_count": 8,
      "outputs": [
        {
          "output_type": "stream",
          "name": "stdout",
          "text": [
            "[[ 1.   0.   1. ]\n",
            " [ 0.  10.   0. ]\n",
            " [ 0.5  0.   3. ]]\n",
            " as our random matrix\n",
            "this matrix has the eigenvalues = \n",
            "[ 0.77525513  3.22474487 10.        ]\n",
            "this matrix has the eigenvectors = \n",
            "[[-0.97566304 -0.40997761  0.        ]\n",
            " [ 0.          0.          1.        ]\n",
            " [ 0.21927526 -0.91209559  0.        ]]\n"
          ]
        }
      ]
    },
    {
      "cell_type": "code",
      "source": [
        "Q, R = np.linalg.qr(test)\n",
        "\n",
        "print(f'Original Matrix\\n{test}')\n",
        "print(f'\\nQ:{Q}\\n\\nR:{R}')\n",
        "print()\n",
        "print(f'matrix is correctly decomposed:\\n err(Test-QR)= {np.sum(test-np.dot(Q,R))}')"
      ],
      "metadata": {
        "colab": {
          "base_uri": "https://localhost:8080/"
        },
        "id": "PhYWd8-gYAdk",
        "outputId": "27dfad11-8a64-4fdb-80c1-4182f76cd8f0"
      },
      "execution_count": 16,
      "outputs": [
        {
          "output_type": "stream",
          "name": "stdout",
          "text": [
            "Original Matrix\n",
            "[[ 1.   0.   1. ]\n",
            " [ 0.  10.   0. ]\n",
            " [ 0.5  0.   3. ]]\n",
            "\n",
            "Q:[[-0.89442719  0.         -0.4472136 ]\n",
            " [-0.          1.          0.        ]\n",
            " [-0.4472136   0.          0.89442719]]\n",
            "\n",
            "R:[[-1.11803399  0.         -2.23606798]\n",
            " [ 0.         10.          0.        ]\n",
            " [ 0.          0.          2.23606798]]\n",
            "\n",
            "matrix is correctly decomposed:\n",
            " err(Test-QR)= 7.771561172376096e-16\n"
          ]
        }
      ]
    },
    {
      "cell_type": "markdown",
      "source": [
        "We can use numpy to solve system of equations and perform linear regression. First we look at just the base method."
      ],
      "metadata": {
        "id": "Qb2VWLbrn_eD"
      }
    }
  ]
}